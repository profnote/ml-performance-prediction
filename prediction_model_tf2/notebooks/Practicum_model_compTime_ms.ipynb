{
 "cells": [
  {
   "cell_type": "markdown",
   "metadata": {},
   "source": [
    "## Small model to predict compute time from parameters of dense/convolutional layer"
   ]
  },
  {
   "cell_type": "code",
   "execution_count": 1,
   "metadata": {},
   "outputs": [],
   "source": [
    "import os\n",
    "import sys\n",
    "import pandas as pd\n",
    "import numpy as np\n",
    "import tensorflow as tf\n",
    "import matplotlib\n",
    "import matplotlib.pyplot as plt\n",
    "from sklearn import linear_model\n",
    "import joblib\n",
    "import shutil"
   ]
  },
  {
   "cell_type": "code",
   "execution_count": 2,
   "metadata": {},
   "outputs": [],
   "source": [
    "# Root directory of the project\n",
    "ROOT_DIR = os.path.abspath(\"../../\")\n",
    "sys.path.append(ROOT_DIR)  # To find local version of the library"
   ]
  },
  {
   "cell_type": "code",
   "execution_count": 29,
   "metadata": {},
   "outputs": [],
   "source": [
    "from prediction_model_tf2.model import Model\n",
    "from prediction_model_tf2 import dataprep"
   ]
  },
  {
   "cell_type": "markdown",
   "metadata": {},
   "source": [
    "### Import data as pd dataframe\n",
    "#### Data should contain parameters and max/median/min/std of time"
   ]
  },
  {
   "cell_type": "code",
   "execution_count": 5,
   "metadata": {},
   "outputs": [],
   "source": [
    "model_name = 'P100_ms'\n",
    "\n",
    "MODEL_PATH = os.path.join(ROOT_DIR, 'prediction_model_tf2', 'models', '%s' %model_name)\n",
    "DATA_PATH = os.path.join(ROOT_DIR, 'prediction_model_tf2', 'practicum_data', '%s' %model_name)"
   ]
  },
  {
   "cell_type": "code",
   "execution_count": 6,
   "metadata": {},
   "outputs": [],
   "source": [
    "try:\n",
    "    MODEL_PATH\n",
    "except:\n",
    "    pass \n",
    "\n",
    "useData = 'Conv' # 'Dense' or 'Conv'\n",
    "#useData = 'Dense'"
   ]
  },
  {
   "cell_type": "code",
   "execution_count": 293,
   "metadata": {},
   "outputs": [],
   "source": [
    "# read pickle\n",
    "if useData == 'Conv':\n",
    "    df = pd.read_pickle(os.path.join(DATA_PATH,'Data_convolution_%s.pkl' %model_name))\n",
    "    scaler_filename = os.path.join(MODEL_PATH,'scaler_Conv.save')\n",
    "elif useData == 'Dense':\n",
    "    df = pd.read_pickle(os.path.join(DATA_PATH,'Data_dense_%s.pkl' %model_name))\n",
    "    scaler_filename = os.path.join(MODEL_PATH,'scaler_Dense.save')\n",
    "else:\n",
    "    print('useData must be Dense or Conv, currently is %s' %useData)"
   ]
  },
  {
   "cell_type": "code",
   "execution_count": 323,
   "metadata": {},
   "outputs": [],
   "source": [
    "# read a csv\n",
    "if useData == 'Conv':\n",
    "    df = pd.read_csv(os.path.join(DATA_PATH,'dfConv_MS_all_7500.csv'))\n",
    "    scaler_filename = os.path.join(MODEL_PATH,'scaler_Conv.save')\n",
    "elif useData == 'Dense':\n",
    "    df = pd.read_csv(os.path.join(DATA_PATH,'dfConv_MS_all.csv'))\n",
    "    scaler_filename = os.path.join(MODEL_PATH,'scaler_Dense.save')\n",
    "else:\n",
    "    print('useData must be Dense or Conv, currently is %s' %useData)"
   ]
  },
  {
   "cell_type": "code",
   "execution_count": 324,
   "metadata": {},
   "outputs": [
    {
     "data": {
      "text/html": [
       "<div>\n",
       "<style scoped>\n",
       "    .dataframe tbody tr th:only-of-type {\n",
       "        vertical-align: middle;\n",
       "    }\n",
       "\n",
       "    .dataframe tbody tr th {\n",
       "        vertical-align: top;\n",
       "    }\n",
       "\n",
       "    .dataframe thead th {\n",
       "        text-align: right;\n",
       "    }\n",
       "</style>\n",
       "<table border=\"1\" class=\"dataframe\">\n",
       "  <thead>\n",
       "    <tr style=\"text-align: right;\">\n",
       "      <th></th>\n",
       "      <th>batchsize</th>\n",
       "      <th>matsize</th>\n",
       "      <th>kernelsize</th>\n",
       "      <th>channels_in</th>\n",
       "      <th>channels_out</th>\n",
       "      <th>strides</th>\n",
       "      <th>padding</th>\n",
       "      <th>precision</th>\n",
       "      <th>use_bias</th>\n",
       "      <th>gpu</th>\n",
       "      <th>...</th>\n",
       "      <th>act_None</th>\n",
       "      <th>act_relu</th>\n",
       "      <th>act_sigmoid</th>\n",
       "      <th>act_tanh</th>\n",
       "      <th>opt_None</th>\n",
       "      <th>peak_performance</th>\n",
       "      <th>IO</th>\n",
       "      <th>bandwidth</th>\n",
       "      <th>cores</th>\n",
       "      <th>clock</th>\n",
       "    </tr>\n",
       "  </thead>\n",
       "  <tbody>\n",
       "    <tr>\n",
       "      <td>0</td>\n",
       "      <td>2</td>\n",
       "      <td>72</td>\n",
       "      <td>7</td>\n",
       "      <td>28</td>\n",
       "      <td>22</td>\n",
       "      <td>3</td>\n",
       "      <td>0</td>\n",
       "      <td>32</td>\n",
       "      <td>0</td>\n",
       "      <td>2</td>\n",
       "      <td>...</td>\n",
       "      <td>0</td>\n",
       "      <td>0</td>\n",
       "      <td>1</td>\n",
       "      <td>0</td>\n",
       "      <td>0</td>\n",
       "      <td>8071</td>\n",
       "      <td>15.75</td>\n",
       "      <td>732</td>\n",
       "      <td>3584</td>\n",
       "      <td>1303</td>\n",
       "    </tr>\n",
       "    <tr>\n",
       "      <td>1</td>\n",
       "      <td>26</td>\n",
       "      <td>40</td>\n",
       "      <td>2</td>\n",
       "      <td>189</td>\n",
       "      <td>207</td>\n",
       "      <td>1</td>\n",
       "      <td>0</td>\n",
       "      <td>32</td>\n",
       "      <td>0</td>\n",
       "      <td>2</td>\n",
       "      <td>...</td>\n",
       "      <td>0</td>\n",
       "      <td>1</td>\n",
       "      <td>0</td>\n",
       "      <td>0</td>\n",
       "      <td>0</td>\n",
       "      <td>8071</td>\n",
       "      <td>15.75</td>\n",
       "      <td>732</td>\n",
       "      <td>3584</td>\n",
       "      <td>1303</td>\n",
       "    </tr>\n",
       "    <tr>\n",
       "      <td>2</td>\n",
       "      <td>2</td>\n",
       "      <td>26</td>\n",
       "      <td>4</td>\n",
       "      <td>240</td>\n",
       "      <td>14</td>\n",
       "      <td>4</td>\n",
       "      <td>1</td>\n",
       "      <td>32</td>\n",
       "      <td>0</td>\n",
       "      <td>2</td>\n",
       "      <td>...</td>\n",
       "      <td>0</td>\n",
       "      <td>1</td>\n",
       "      <td>0</td>\n",
       "      <td>0</td>\n",
       "      <td>0</td>\n",
       "      <td>8071</td>\n",
       "      <td>15.75</td>\n",
       "      <td>732</td>\n",
       "      <td>3584</td>\n",
       "      <td>1303</td>\n",
       "    </tr>\n",
       "    <tr>\n",
       "      <td>3</td>\n",
       "      <td>57</td>\n",
       "      <td>108</td>\n",
       "      <td>4</td>\n",
       "      <td>91</td>\n",
       "      <td>13</td>\n",
       "      <td>1</td>\n",
       "      <td>0</td>\n",
       "      <td>32</td>\n",
       "      <td>1</td>\n",
       "      <td>2</td>\n",
       "      <td>...</td>\n",
       "      <td>0</td>\n",
       "      <td>0</td>\n",
       "      <td>1</td>\n",
       "      <td>0</td>\n",
       "      <td>0</td>\n",
       "      <td>8071</td>\n",
       "      <td>15.75</td>\n",
       "      <td>732</td>\n",
       "      <td>3584</td>\n",
       "      <td>1303</td>\n",
       "    </tr>\n",
       "    <tr>\n",
       "      <td>4</td>\n",
       "      <td>39</td>\n",
       "      <td>404</td>\n",
       "      <td>4</td>\n",
       "      <td>7</td>\n",
       "      <td>2</td>\n",
       "      <td>4</td>\n",
       "      <td>1</td>\n",
       "      <td>32</td>\n",
       "      <td>0</td>\n",
       "      <td>2</td>\n",
       "      <td>...</td>\n",
       "      <td>1</td>\n",
       "      <td>0</td>\n",
       "      <td>0</td>\n",
       "      <td>0</td>\n",
       "      <td>0</td>\n",
       "      <td>8071</td>\n",
       "      <td>15.75</td>\n",
       "      <td>732</td>\n",
       "      <td>3584</td>\n",
       "      <td>1303</td>\n",
       "    </tr>\n",
       "    <tr>\n",
       "      <td>...</td>\n",
       "      <td>...</td>\n",
       "      <td>...</td>\n",
       "      <td>...</td>\n",
       "      <td>...</td>\n",
       "      <td>...</td>\n",
       "      <td>...</td>\n",
       "      <td>...</td>\n",
       "      <td>...</td>\n",
       "      <td>...</td>\n",
       "      <td>...</td>\n",
       "      <td>...</td>\n",
       "      <td>...</td>\n",
       "      <td>...</td>\n",
       "      <td>...</td>\n",
       "      <td>...</td>\n",
       "      <td>...</td>\n",
       "      <td>...</td>\n",
       "      <td>...</td>\n",
       "      <td>...</td>\n",
       "      <td>...</td>\n",
       "      <td>...</td>\n",
       "    </tr>\n",
       "    <tr>\n",
       "      <td>7495</td>\n",
       "      <td>42</td>\n",
       "      <td>299</td>\n",
       "      <td>7</td>\n",
       "      <td>22</td>\n",
       "      <td>23</td>\n",
       "      <td>1</td>\n",
       "      <td>0</td>\n",
       "      <td>32</td>\n",
       "      <td>1</td>\n",
       "      <td>2</td>\n",
       "      <td>...</td>\n",
       "      <td>1</td>\n",
       "      <td>0</td>\n",
       "      <td>0</td>\n",
       "      <td>0</td>\n",
       "      <td>0</td>\n",
       "      <td>8071</td>\n",
       "      <td>15.75</td>\n",
       "      <td>732</td>\n",
       "      <td>3584</td>\n",
       "      <td>1303</td>\n",
       "    </tr>\n",
       "    <tr>\n",
       "      <td>7496</td>\n",
       "      <td>57</td>\n",
       "      <td>142</td>\n",
       "      <td>6</td>\n",
       "      <td>61</td>\n",
       "      <td>44</td>\n",
       "      <td>3</td>\n",
       "      <td>0</td>\n",
       "      <td>32</td>\n",
       "      <td>0</td>\n",
       "      <td>2</td>\n",
       "      <td>...</td>\n",
       "      <td>0</td>\n",
       "      <td>0</td>\n",
       "      <td>1</td>\n",
       "      <td>0</td>\n",
       "      <td>0</td>\n",
       "      <td>8071</td>\n",
       "      <td>15.75</td>\n",
       "      <td>732</td>\n",
       "      <td>3584</td>\n",
       "      <td>1303</td>\n",
       "    </tr>\n",
       "    <tr>\n",
       "      <td>7497</td>\n",
       "      <td>38</td>\n",
       "      <td>509</td>\n",
       "      <td>3</td>\n",
       "      <td>1</td>\n",
       "      <td>5</td>\n",
       "      <td>4</td>\n",
       "      <td>1</td>\n",
       "      <td>32</td>\n",
       "      <td>1</td>\n",
       "      <td>2</td>\n",
       "      <td>...</td>\n",
       "      <td>0</td>\n",
       "      <td>0</td>\n",
       "      <td>1</td>\n",
       "      <td>0</td>\n",
       "      <td>0</td>\n",
       "      <td>8071</td>\n",
       "      <td>15.75</td>\n",
       "      <td>732</td>\n",
       "      <td>3584</td>\n",
       "      <td>1303</td>\n",
       "    </tr>\n",
       "    <tr>\n",
       "      <td>7498</td>\n",
       "      <td>23</td>\n",
       "      <td>159</td>\n",
       "      <td>7</td>\n",
       "      <td>12</td>\n",
       "      <td>51</td>\n",
       "      <td>4</td>\n",
       "      <td>1</td>\n",
       "      <td>32</td>\n",
       "      <td>0</td>\n",
       "      <td>2</td>\n",
       "      <td>...</td>\n",
       "      <td>0</td>\n",
       "      <td>0</td>\n",
       "      <td>0</td>\n",
       "      <td>1</td>\n",
       "      <td>0</td>\n",
       "      <td>8071</td>\n",
       "      <td>15.75</td>\n",
       "      <td>732</td>\n",
       "      <td>3584</td>\n",
       "      <td>1303</td>\n",
       "    </tr>\n",
       "    <tr>\n",
       "      <td>7499</td>\n",
       "      <td>48</td>\n",
       "      <td>55</td>\n",
       "      <td>4</td>\n",
       "      <td>87</td>\n",
       "      <td>93</td>\n",
       "      <td>4</td>\n",
       "      <td>0</td>\n",
       "      <td>32</td>\n",
       "      <td>0</td>\n",
       "      <td>2</td>\n",
       "      <td>...</td>\n",
       "      <td>0</td>\n",
       "      <td>1</td>\n",
       "      <td>0</td>\n",
       "      <td>0</td>\n",
       "      <td>0</td>\n",
       "      <td>8071</td>\n",
       "      <td>15.75</td>\n",
       "      <td>732</td>\n",
       "      <td>3584</td>\n",
       "      <td>1303</td>\n",
       "    </tr>\n",
       "  </tbody>\n",
       "</table>\n",
       "<p>7500 rows × 36 columns</p>\n",
       "</div>"
      ],
      "text/plain": [
       "      batchsize  matsize  kernelsize  channels_in  channels_out  strides  \\\n",
       "0             2       72           7           28            22        3   \n",
       "1            26       40           2          189           207        1   \n",
       "2             2       26           4          240            14        4   \n",
       "3            57      108           4           91            13        1   \n",
       "4            39      404           4            7             2        4   \n",
       "...         ...      ...         ...          ...           ...      ...   \n",
       "7495         42      299           7           22            23        1   \n",
       "7496         57      142           6           61            44        3   \n",
       "7497         38      509           3            1             5        4   \n",
       "7498         23      159           7           12            51        4   \n",
       "7499         48       55           4           87            93        4   \n",
       "\n",
       "      padding  precision  use_bias  gpu  ...  act_None  act_relu  act_sigmoid  \\\n",
       "0           0         32         0    2  ...         0         0            1   \n",
       "1           0         32         0    2  ...         0         1            0   \n",
       "2           1         32         0    2  ...         0         1            0   \n",
       "3           0         32         1    2  ...         0         0            1   \n",
       "4           1         32         0    2  ...         1         0            0   \n",
       "...       ...        ...       ...  ...  ...       ...       ...          ...   \n",
       "7495        0         32         1    2  ...         1         0            0   \n",
       "7496        0         32         0    2  ...         0         0            1   \n",
       "7497        1         32         1    2  ...         0         0            1   \n",
       "7498        1         32         0    2  ...         0         0            0   \n",
       "7499        0         32         0    2  ...         0         1            0   \n",
       "\n",
       "      act_tanh  opt_None  peak_performance     IO  bandwidth  cores  clock  \n",
       "0            0         0              8071  15.75        732   3584   1303  \n",
       "1            0         0              8071  15.75        732   3584   1303  \n",
       "2            0         0              8071  15.75        732   3584   1303  \n",
       "3            0         0              8071  15.75        732   3584   1303  \n",
       "4            0         0              8071  15.75        732   3584   1303  \n",
       "...        ...       ...               ...    ...        ...    ...    ...  \n",
       "7495         0         0              8071  15.75        732   3584   1303  \n",
       "7496         0         0              8071  15.75        732   3584   1303  \n",
       "7497         0         0              8071  15.75        732   3584   1303  \n",
       "7498         1         0              8071  15.75        732   3584   1303  \n",
       "7499         0         0              8071  15.75        732   3584   1303  \n",
       "\n",
       "[7500 rows x 36 columns]"
      ]
     },
     "execution_count": 324,
     "metadata": {},
     "output_type": "execute_result"
    }
   ],
   "source": [
    "df"
   ]
  },
  {
   "cell_type": "code",
   "execution_count": 301,
   "metadata": {},
   "outputs": [
    {
     "data": {
      "text/plain": [
       "count    7500.000000\n",
       "mean       25.621820\n",
       "std        31.753553\n",
       "min         0.030794\n",
       "25%         5.177504\n",
       "50%        15.359610\n",
       "75%        31.714983\n",
       "max       262.933070\n",
       "Name: timeUsed_std, dtype: float64"
      ]
     },
     "execution_count": 301,
     "metadata": {},
     "output_type": "execute_result"
    }
   ],
   "source": [
    "df.timeUsed_std.describe()"
   ]
  },
  {
   "cell_type": "code",
   "execution_count": 326,
   "metadata": {},
   "outputs": [
    {
     "data": {
      "text/html": [
       "<div>\n",
       "<style scoped>\n",
       "    .dataframe tbody tr th:only-of-type {\n",
       "        vertical-align: middle;\n",
       "    }\n",
       "\n",
       "    .dataframe tbody tr th {\n",
       "        vertical-align: top;\n",
       "    }\n",
       "\n",
       "    .dataframe thead th {\n",
       "        text-align: right;\n",
       "    }\n",
       "</style>\n",
       "<table border=\"1\" class=\"dataframe\">\n",
       "  <thead>\n",
       "    <tr style=\"text-align: right;\">\n",
       "      <th></th>\n",
       "      <th>batchsize</th>\n",
       "      <th>matsize</th>\n",
       "      <th>kernelsize</th>\n",
       "      <th>channels_in</th>\n",
       "      <th>channels_out</th>\n",
       "      <th>strides</th>\n",
       "      <th>padding</th>\n",
       "      <th>precision</th>\n",
       "      <th>use_bias</th>\n",
       "      <th>gpu</th>\n",
       "      <th>...</th>\n",
       "      <th>act_None</th>\n",
       "      <th>act_relu</th>\n",
       "      <th>act_sigmoid</th>\n",
       "      <th>act_tanh</th>\n",
       "      <th>opt_None</th>\n",
       "      <th>peak_performance</th>\n",
       "      <th>IO</th>\n",
       "      <th>bandwidth</th>\n",
       "      <th>cores</th>\n",
       "      <th>clock</th>\n",
       "    </tr>\n",
       "  </thead>\n",
       "  <tbody>\n",
       "    <tr>\n",
       "      <td>0</td>\n",
       "      <td>2</td>\n",
       "      <td>72</td>\n",
       "      <td>7</td>\n",
       "      <td>28</td>\n",
       "      <td>22</td>\n",
       "      <td>3</td>\n",
       "      <td>0</td>\n",
       "      <td>32</td>\n",
       "      <td>0</td>\n",
       "      <td>2</td>\n",
       "      <td>...</td>\n",
       "      <td>0</td>\n",
       "      <td>0</td>\n",
       "      <td>1</td>\n",
       "      <td>0</td>\n",
       "      <td>0</td>\n",
       "      <td>8071</td>\n",
       "      <td>15.75</td>\n",
       "      <td>732</td>\n",
       "      <td>3584</td>\n",
       "      <td>1303</td>\n",
       "    </tr>\n",
       "    <tr>\n",
       "      <td>1</td>\n",
       "      <td>26</td>\n",
       "      <td>40</td>\n",
       "      <td>2</td>\n",
       "      <td>189</td>\n",
       "      <td>207</td>\n",
       "      <td>1</td>\n",
       "      <td>0</td>\n",
       "      <td>32</td>\n",
       "      <td>0</td>\n",
       "      <td>2</td>\n",
       "      <td>...</td>\n",
       "      <td>0</td>\n",
       "      <td>1</td>\n",
       "      <td>0</td>\n",
       "      <td>0</td>\n",
       "      <td>0</td>\n",
       "      <td>8071</td>\n",
       "      <td>15.75</td>\n",
       "      <td>732</td>\n",
       "      <td>3584</td>\n",
       "      <td>1303</td>\n",
       "    </tr>\n",
       "    <tr>\n",
       "      <td>2</td>\n",
       "      <td>2</td>\n",
       "      <td>26</td>\n",
       "      <td>4</td>\n",
       "      <td>240</td>\n",
       "      <td>14</td>\n",
       "      <td>4</td>\n",
       "      <td>1</td>\n",
       "      <td>32</td>\n",
       "      <td>0</td>\n",
       "      <td>2</td>\n",
       "      <td>...</td>\n",
       "      <td>0</td>\n",
       "      <td>1</td>\n",
       "      <td>0</td>\n",
       "      <td>0</td>\n",
       "      <td>0</td>\n",
       "      <td>8071</td>\n",
       "      <td>15.75</td>\n",
       "      <td>732</td>\n",
       "      <td>3584</td>\n",
       "      <td>1303</td>\n",
       "    </tr>\n",
       "    <tr>\n",
       "      <td>3</td>\n",
       "      <td>57</td>\n",
       "      <td>108</td>\n",
       "      <td>4</td>\n",
       "      <td>91</td>\n",
       "      <td>13</td>\n",
       "      <td>1</td>\n",
       "      <td>0</td>\n",
       "      <td>32</td>\n",
       "      <td>1</td>\n",
       "      <td>2</td>\n",
       "      <td>...</td>\n",
       "      <td>0</td>\n",
       "      <td>0</td>\n",
       "      <td>1</td>\n",
       "      <td>0</td>\n",
       "      <td>0</td>\n",
       "      <td>8071</td>\n",
       "      <td>15.75</td>\n",
       "      <td>732</td>\n",
       "      <td>3584</td>\n",
       "      <td>1303</td>\n",
       "    </tr>\n",
       "    <tr>\n",
       "      <td>4</td>\n",
       "      <td>39</td>\n",
       "      <td>404</td>\n",
       "      <td>4</td>\n",
       "      <td>7</td>\n",
       "      <td>2</td>\n",
       "      <td>4</td>\n",
       "      <td>1</td>\n",
       "      <td>32</td>\n",
       "      <td>0</td>\n",
       "      <td>2</td>\n",
       "      <td>...</td>\n",
       "      <td>1</td>\n",
       "      <td>0</td>\n",
       "      <td>0</td>\n",
       "      <td>0</td>\n",
       "      <td>0</td>\n",
       "      <td>8071</td>\n",
       "      <td>15.75</td>\n",
       "      <td>732</td>\n",
       "      <td>3584</td>\n",
       "      <td>1303</td>\n",
       "    </tr>\n",
       "    <tr>\n",
       "      <td>...</td>\n",
       "      <td>...</td>\n",
       "      <td>...</td>\n",
       "      <td>...</td>\n",
       "      <td>...</td>\n",
       "      <td>...</td>\n",
       "      <td>...</td>\n",
       "      <td>...</td>\n",
       "      <td>...</td>\n",
       "      <td>...</td>\n",
       "      <td>...</td>\n",
       "      <td>...</td>\n",
       "      <td>...</td>\n",
       "      <td>...</td>\n",
       "      <td>...</td>\n",
       "      <td>...</td>\n",
       "      <td>...</td>\n",
       "      <td>...</td>\n",
       "      <td>...</td>\n",
       "      <td>...</td>\n",
       "      <td>...</td>\n",
       "      <td>...</td>\n",
       "    </tr>\n",
       "    <tr>\n",
       "      <td>7494</td>\n",
       "      <td>46</td>\n",
       "      <td>188</td>\n",
       "      <td>4</td>\n",
       "      <td>1</td>\n",
       "      <td>6</td>\n",
       "      <td>2</td>\n",
       "      <td>1</td>\n",
       "      <td>32</td>\n",
       "      <td>0</td>\n",
       "      <td>2</td>\n",
       "      <td>...</td>\n",
       "      <td>0</td>\n",
       "      <td>1</td>\n",
       "      <td>0</td>\n",
       "      <td>0</td>\n",
       "      <td>0</td>\n",
       "      <td>8071</td>\n",
       "      <td>15.75</td>\n",
       "      <td>732</td>\n",
       "      <td>3584</td>\n",
       "      <td>1303</td>\n",
       "    </tr>\n",
       "    <tr>\n",
       "      <td>7496</td>\n",
       "      <td>57</td>\n",
       "      <td>142</td>\n",
       "      <td>6</td>\n",
       "      <td>61</td>\n",
       "      <td>44</td>\n",
       "      <td>3</td>\n",
       "      <td>0</td>\n",
       "      <td>32</td>\n",
       "      <td>0</td>\n",
       "      <td>2</td>\n",
       "      <td>...</td>\n",
       "      <td>0</td>\n",
       "      <td>0</td>\n",
       "      <td>1</td>\n",
       "      <td>0</td>\n",
       "      <td>0</td>\n",
       "      <td>8071</td>\n",
       "      <td>15.75</td>\n",
       "      <td>732</td>\n",
       "      <td>3584</td>\n",
       "      <td>1303</td>\n",
       "    </tr>\n",
       "    <tr>\n",
       "      <td>7497</td>\n",
       "      <td>38</td>\n",
       "      <td>509</td>\n",
       "      <td>3</td>\n",
       "      <td>1</td>\n",
       "      <td>5</td>\n",
       "      <td>4</td>\n",
       "      <td>1</td>\n",
       "      <td>32</td>\n",
       "      <td>1</td>\n",
       "      <td>2</td>\n",
       "      <td>...</td>\n",
       "      <td>0</td>\n",
       "      <td>0</td>\n",
       "      <td>1</td>\n",
       "      <td>0</td>\n",
       "      <td>0</td>\n",
       "      <td>8071</td>\n",
       "      <td>15.75</td>\n",
       "      <td>732</td>\n",
       "      <td>3584</td>\n",
       "      <td>1303</td>\n",
       "    </tr>\n",
       "    <tr>\n",
       "      <td>7498</td>\n",
       "      <td>23</td>\n",
       "      <td>159</td>\n",
       "      <td>7</td>\n",
       "      <td>12</td>\n",
       "      <td>51</td>\n",
       "      <td>4</td>\n",
       "      <td>1</td>\n",
       "      <td>32</td>\n",
       "      <td>0</td>\n",
       "      <td>2</td>\n",
       "      <td>...</td>\n",
       "      <td>0</td>\n",
       "      <td>0</td>\n",
       "      <td>0</td>\n",
       "      <td>1</td>\n",
       "      <td>0</td>\n",
       "      <td>8071</td>\n",
       "      <td>15.75</td>\n",
       "      <td>732</td>\n",
       "      <td>3584</td>\n",
       "      <td>1303</td>\n",
       "    </tr>\n",
       "    <tr>\n",
       "      <td>7499</td>\n",
       "      <td>48</td>\n",
       "      <td>55</td>\n",
       "      <td>4</td>\n",
       "      <td>87</td>\n",
       "      <td>93</td>\n",
       "      <td>4</td>\n",
       "      <td>0</td>\n",
       "      <td>32</td>\n",
       "      <td>0</td>\n",
       "      <td>2</td>\n",
       "      <td>...</td>\n",
       "      <td>0</td>\n",
       "      <td>1</td>\n",
       "      <td>0</td>\n",
       "      <td>0</td>\n",
       "      <td>0</td>\n",
       "      <td>8071</td>\n",
       "      <td>15.75</td>\n",
       "      <td>732</td>\n",
       "      <td>3584</td>\n",
       "      <td>1303</td>\n",
       "    </tr>\n",
       "  </tbody>\n",
       "</table>\n",
       "<p>6875 rows × 36 columns</p>\n",
       "</div>"
      ],
      "text/plain": [
       "      batchsize  matsize  kernelsize  channels_in  channels_out  strides  \\\n",
       "0             2       72           7           28            22        3   \n",
       "1            26       40           2          189           207        1   \n",
       "2             2       26           4          240            14        4   \n",
       "3            57      108           4           91            13        1   \n",
       "4            39      404           4            7             2        4   \n",
       "...         ...      ...         ...          ...           ...      ...   \n",
       "7494         46      188           4            1             6        2   \n",
       "7496         57      142           6           61            44        3   \n",
       "7497         38      509           3            1             5        4   \n",
       "7498         23      159           7           12            51        4   \n",
       "7499         48       55           4           87            93        4   \n",
       "\n",
       "      padding  precision  use_bias  gpu  ...  act_None  act_relu  act_sigmoid  \\\n",
       "0           0         32         0    2  ...         0         0            1   \n",
       "1           0         32         0    2  ...         0         1            0   \n",
       "2           1         32         0    2  ...         0         1            0   \n",
       "3           0         32         1    2  ...         0         0            1   \n",
       "4           1         32         0    2  ...         1         0            0   \n",
       "...       ...        ...       ...  ...  ...       ...       ...          ...   \n",
       "7494        1         32         0    2  ...         0         1            0   \n",
       "7496        0         32         0    2  ...         0         0            1   \n",
       "7497        1         32         1    2  ...         0         0            1   \n",
       "7498        1         32         0    2  ...         0         0            0   \n",
       "7499        0         32         0    2  ...         0         1            0   \n",
       "\n",
       "      act_tanh  opt_None  peak_performance     IO  bandwidth  cores  clock  \n",
       "0            0         0              8071  15.75        732   3584   1303  \n",
       "1            0         0              8071  15.75        732   3584   1303  \n",
       "2            0         0              8071  15.75        732   3584   1303  \n",
       "3            0         0              8071  15.75        732   3584   1303  \n",
       "4            0         0              8071  15.75        732   3584   1303  \n",
       "...        ...       ...               ...    ...        ...    ...    ...  \n",
       "7494         0         0              8071  15.75        732   3584   1303  \n",
       "7496         0         0              8071  15.75        732   3584   1303  \n",
       "7497         0         0              8071  15.75        732   3584   1303  \n",
       "7498         1         0              8071  15.75        732   3584   1303  \n",
       "7499         0         0              8071  15.75        732   3584   1303  \n",
       "\n",
       "[6875 rows x 36 columns]"
      ]
     },
     "execution_count": 326,
     "metadata": {},
     "output_type": "execute_result"
    }
   ],
   "source": [
    "# remove outliers\n",
    "cutoff = df.timeUsed_median.quantile(0.95)\n",
    "cutoff2 = df.ops.quantile(0.95)\n",
    "\n",
    "df = df[df.timeUsed_median < cutoff]\n",
    "df = df[df.ops < cutoff2]\n",
    "df"
   ]
  },
  {
   "cell_type": "markdown",
   "metadata": {},
   "source": [
    "#### Our Results (Median time - no optimizers)"
   ]
  },
  {
   "cell_type": "code",
   "execution_count": 327,
   "metadata": {},
   "outputs": [
    {
     "data": {
      "image/png": "[encoded data removed]",
      "text/plain": [
       "<Figure size 1152x576 with 2 Axes>"
      ]
     },
     "metadata": {
      "needs_background": "light"
     },
     "output_type": "display_data"
    }
   ],
   "source": [
    "fig, axes = plt.subplots(nrows=1, ncols=2, figsize=[16,8])\n",
    "matplotlib.rc('xtick', labelsize=12) \n",
    "matplotlib.rc('ytick', labelsize=12) \n",
    "\n",
    "df[:]['timeUsed_median'].plot.hist(bins=np.arange(0,150,5), ax=axes[0])\n",
    "df[:].plot.scatter(x='ops', y='timeUsed_median', ax=axes[1])\n",
    "\n",
    "axes[0].set_title('timeUsed Frequency')\n",
    "axes[1].set_title('timeUsed vs Operations')\n",
    "plt.show()"
   ]
  },
  {
   "cell_type": "code",
   "execution_count": 8,
   "metadata": {},
   "outputs": [],
   "source": [
    "if useData == 'Dense':\n",
    "    model_name = '%s_dense' %model_name"
   ]
  },
  {
   "cell_type": "code",
   "execution_count": 9,
   "metadata": {},
   "outputs": [],
   "source": [
    "# Only forward pass\n",
    "df = df[df['opt_SGD']==1]\n",
    "model_name = '%s_SGD'%model_name\n",
    "scaler_filename = (\"scaler_%s_Conv.save\" %model_name)"
   ]
  },
  {
   "cell_type": "markdown",
   "metadata": {},
   "source": [
    "### Generate train, test and validation datasets (80%,10%,10%)\n",
    "#### Normalise data, generate train, test, validation dataset\n",
    "#### Use median of time as target parameter"
   ]
  },
  {
   "cell_type": "code",
   "execution_count": 309,
   "metadata": {},
   "outputs": [],
   "source": [
    "split=[.8,.1,.1]\n",
    "if model_name == 'all' or model_name[0:3] == 'no_':\n",
    "    data_cols_conv = ['batchsize','elements_matrix','elements_kernel',\n",
    "                      'channels_in','channels_out','padding','strides','use_bias', \n",
    "                      'opt_SGD','opt_Adadelta','opt_Adagrad','opt_Momentum','opt_Adam','opt_RMSProp',\n",
    "                      'act_relu','act_tanh','act_sigmoid',\n",
    "                      'bandwidth','cores','clock']\n",
    "    \n",
    "    data_cols_dense = ['batchsize','dim_input','dim_output',\n",
    "                       'opt_SGD','opt_Adadelta','opt_Adagrad','opt_Momentum','opt_Adam','opt_RMSProp',\n",
    "                       'act_relu','act_tanh','act_sigmoid',\n",
    "                      'bandwidth','cores','clock']\n",
    "    \n",
    "else:\n",
    "    data_cols_conv = ['batchsize','elements_matrix','elements_kernel',\n",
    "                      'channels_in','channels_out','padding','strides','use_bias', \n",
    "                      'opt_SGD','opt_Adadelta','opt_Adagrad','opt_Momentum','opt_Adam','opt_RMSProp',\n",
    "                      'act_relu','act_tanh','act_sigmoid',\n",
    "                      'bandwidth','cores','clock']\n",
    "    \n",
    "    data_cols_dense = ['batchsize','dim_input','dim_output',\n",
    "                       'opt_SGD','opt_Adadelta','opt_Adagrad','opt_Momentum','opt_Adam','opt_RMSProp',\n",
    "                       'act_relu','act_tanh','act_sigmoid']\n",
    "\n",
    "\n",
    "if useData == 'Conv':\n",
    "    data_cols = data_cols_conv\n",
    "elif useData == 'Dense':\n",
    "    data_cols = data_cols_dense"
   ]
  },
  {
   "cell_type": "code",
   "execution_count": 310,
   "metadata": {},
   "outputs": [
    {
     "name": "stdout",
     "output_type": "stream",
     "text": [
      "Size of train dataset: 6000 \n",
      "Size of test dataset: 750 \n",
      "Size of validation dataset: 750\n"
     ]
    },
    {
     "data": {
      "text/plain": [
       "['C:\\\\Users\\\\ASUS\\\\Documents\\\\GitHub\\\\ml-performance-prediction\\\\prediction_model_tf2\\\\models\\\\P100_ms\\\\scaler_Conv.save']"
      ]
     },
     "execution_count": 310,
     "metadata": {},
     "output_type": "execute_result"
    }
   ],
   "source": [
    "data, time, train, test, validation, scaler = dataprep.data_preprocess(df,data_cols,split)\n",
    "joblib.dump(scaler, scaler_filename) "
   ]
  },
  {
   "cell_type": "markdown",
   "metadata": {},
   "source": [
    "### Define model"
   ]
  },
  {
   "cell_type": "code",
   "execution_count": 311,
   "metadata": {},
   "outputs": [],
   "source": [
    "if model_name == 'all' or model_name[0:3] == 'no_':\n",
    "    num_neurons = [32,64,128,128,128,128]\n",
    "else:\n",
    "    num_neurons = [32,64,128,128]\n",
    "\n",
    "lr_initial = 0.1\n",
    "lr_decay_step = 40"
   ]
  },
  {
   "cell_type": "code",
   "execution_count": 312,
   "metadata": {},
   "outputs": [],
   "source": [
    "tf.compat.v1.disable_eager_execution() #have to disable eager execution after TF2 migration\n",
    "\n",
    "tf.compat.v1.reset_default_graph()\n",
    "data_dim = data['Train'].shape[1]\n",
    "\n",
    "inputs = tf.compat.v1.placeholder(tf.float32, shape=(None, data_dim), name='model_input')\n",
    "targets = tf.compat.v1.placeholder(tf.float32, shape=(None), name='model_targets')\n",
    "learning_rate = tf.compat.v1.placeholder(tf.float32, shape=[])\n",
    "reg_constant = .00001\n",
    "dropout_rate = 0.2\n",
    "batch_size = 64 #128"
   ]
  },
  {
   "cell_type": "markdown",
   "metadata": {},
   "source": [
    "#### Remove checkpoints and tb output"
   ]
  },
  {
   "cell_type": "code",
   "execution_count": 313,
   "metadata": {},
   "outputs": [
    {
     "name": "stdout",
     "output_type": "stream",
     "text": [
      "Checkpoints cleared\n"
     ]
    }
   ],
   "source": [
    "try:\n",
    "    folder = './checkpoints/%s' % model_name\n",
    "    for the_file in os.listdir(folder):\n",
    "        file_path = os.path.join(folder, the_file)\n",
    "        os.remove(file_path)\n",
    "\n",
    "    folder = './graphs/prediction/test/%s' % model_name\n",
    "    for the_file in os.listdir(folder):\n",
    "        file_path = os.path.join(folder, the_file) \n",
    "        os.remove(file_path)\n",
    "\n",
    "    folder = './graphs/prediction/train/%s' % model_name\n",
    "    for the_file in os.listdir(folder):\n",
    "        file_path = os.path.join(folder, the_file) \n",
    "        os.remove(file_path)\n",
    "        \n",
    "    print('Checkpoints cleared')\n",
    "except:\n",
    "    print('Nothing to delete')\n",
    "    "
   ]
  },
  {
   "cell_type": "code",
   "execution_count": 314,
   "metadata": {},
   "outputs": [],
   "source": [
    "model = Model(inputs,targets,learning_rate,reg_constant,dropout_rate,\n",
    "              num_neurons,lr_initial,lr_decay_step,batch_size,model_name)"
   ]
  },
  {
   "cell_type": "code",
   "execution_count": 315,
   "metadata": {},
   "outputs": [
    {
     "data": {
      "text/plain": [
       "<tf.Operation 'Adam' type=AssignAddVariableOp>"
      ]
     },
     "execution_count": 315,
     "metadata": {},
     "output_type": "execute_result"
    }
   ],
   "source": [
    "model.prediction\n",
    "model.train_op"
   ]
  },
  {
   "cell_type": "markdown",
   "metadata": {},
   "source": [
    "### Run model, generate plots\n",
    "##### Checkpoints in ./Checkpoint, tb graphs and summaries in ./graphs"
   ]
  },
  {
   "cell_type": "code",
   "execution_count": 316,
   "metadata": {
    "scrolled": true
   },
   "outputs": [
    {
     "name": "stdout",
     "output_type": "stream",
     "text": [
      "C:\\Users\\ASUS\\Documents\\GitHub\\ml-performance-prediction\\prediction_model_tf2\\notebooks\n",
      "Epoch 0: Train loss 2.331, Test loss 0.580\n",
      "Epoch 10: Train loss 0.390, Test loss 0.413\n",
      "Epoch 20: Train loss 0.374, Test loss 0.398\n",
      "Epoch 30: Train loss 0.351, Test loss 0.394\n",
      "Epoch 40: Train loss 0.320, Test loss 0.372\n",
      "Epoch 50: Train loss 0.301, Test loss 0.365\n",
      "Epoch 60: Train loss 0.243, Test loss 0.310\n",
      "Epoch 70: Train loss 0.200, Test loss 0.263\n",
      "Epoch 80: Train loss 0.147, Test loss 0.224\n",
      "Epoch 90: Train loss 0.130, Test loss 0.209\n",
      "Epoch 100: Train loss 0.121, Test loss 0.200\n",
      "Epoch 110: Train loss 0.117, Test loss 0.192\n",
      "Epoch 120: Train loss 0.102, Test loss 0.189\n",
      "Epoch 130: Train loss 0.100, Test loss 0.188\n",
      "Epoch 140: Train loss 0.098, Test loss 0.184\n",
      "Epoch 150: Train loss 0.093, Test loss 0.185\n",
      "Epoch 160: Train loss 0.088, Test loss 0.185\n",
      "Epoch 170: Train loss 0.087, Test loss 0.185\n",
      "Epoch 180: Train loss 0.086, Test loss 0.184\n",
      "Epoch 190: Train loss 0.087, Test loss 0.190\n",
      "Epoch 200: Train loss 0.084, Test loss 0.184\n",
      "Epoch 210: Train loss 0.082, Test loss 0.184\n",
      "Epoch 220: Train loss 0.083, Test loss 0.185\n",
      "Epoch 230: Train loss 0.082, Test loss 0.185\n",
      "Epoch 240: Train loss 0.081, Test loss 0.184\n",
      "Epoch 250: Train loss 0.080, Test loss 0.183\n",
      "Epoch 260: Train loss 0.080, Test loss 0.185\n",
      "Epoch 270: Train loss 0.078, Test loss 0.184\n",
      "Epoch 280: Train loss 0.079, Test loss 0.185\n",
      "Epoch 290: Train loss 0.078, Test loss 0.184\n"
     ]
    }
   ],
   "source": [
    "model.train(data['Train'],time['Train'],data['Test'],time['Test'],300)"
   ]
  },
  {
   "cell_type": "code",
   "execution_count": 317,
   "metadata": {},
   "outputs": [
    {
     "name": "stdout",
     "output_type": "stream",
     "text": [
      "INFO:tensorflow:Restoring parameters from checkpoints/P100_ms\\prediction-299\n",
      "INFO:tensorflow:Assets added to graph.\n",
      "INFO:tensorflow:No assets to write.\n",
      "INFO:tensorflow:SavedModel written to: C:\\Users\\ASUS\\Documents\\GitHub\\ml-performance-prediction\\prediction_model_tf2/models/P100_ms/saved_model\\saved_model.pb\n"
     ]
    }
   ],
   "source": [
    "saver = tf.compat.v1.train.Saver()\n",
    "folder = os.path.join(ROOT_DIR, 'prediction_model_tf2/models/%s/saved_model' %model_name)\n",
    "try:\n",
    "    shutil.rmtree(folder)\n",
    "except:\n",
    "    pass\n",
    "with tf.compat.v1.Session() as sess:\n",
    "    sess.run(tf.compat.v1.global_variables_initializer())\n",
    "    \n",
    "    ckpt = tf.train.get_checkpoint_state(os.path.dirname('checkpoints/%s/checkpoint' %model_name))\n",
    "    saver.restore(sess, ckpt.model_checkpoint_path)\n",
    "    tf.compat.v1.saved_model.simple_save(\n",
    "            sess,\n",
    "            folder,\n",
    "            inputs={'model_input': inputs,'model_istraining': model.istraining},\n",
    "            outputs={'model_prediction': model.prediction})"
   ]
  },
  {
   "cell_type": "code",
   "execution_count": 318,
   "metadata": {},
   "outputs": [
    {
     "name": "stdout",
     "output_type": "stream",
     "text": [
      "INFO:tensorflow:Restoring parameters from checkpoints/P100_ms\\prediction-299\n"
     ]
    },
    {
     "data": {
      "image/png": "[encoded data removed]",
      "text/plain": [
       "<Figure size 576x576 with 1 Axes>"
      ]
     },
     "metadata": {
      "needs_background": "light"
     },
     "output_type": "display_data"
    },
    {
     "name": "stdout",
     "output_type": "stream",
     "text": [
      "RMS test error = 238 ms\n"
     ]
    }
   ],
   "source": [
    "saver = tf.compat.v1.train.Saver()\n",
    "with tf.compat.v1.Session() as sess:\n",
    "    sess.run(tf.compat.v1.global_variables_initializer())\n",
    "    \n",
    "    ckpt = tf.compat.v1.train.get_checkpoint_state(os.path.dirname('checkpoints/%s/checkpoint' %model_name))\n",
    "    saver.restore(sess, ckpt.model_checkpoint_path)\n",
    "    \n",
    "    v = sess.run(tf.compat.v1.get_collection(tf.compat.v1.GraphKeys.TRAINABLE_VARIABLES))\n",
    "    \n",
    "    test_prediction, test_loss = sess.run(\n",
    "            [model.prediction,model.loss], \n",
    "            feed_dict={model.inputs: data['Test'], \n",
    "                       model.targets: time['Test'],\n",
    "                       model.istraining: False}) \n",
    "    \n",
    "RMS_test_error = np.sqrt(np.mean((time['Test']-test_prediction)**2))\n",
    "\n",
    "fig,ax = plt.subplots(1,1,figsize=[8,8])\n",
    "ax.plot(time['Test'],test_prediction,'.')\n",
    "ax.plot(time['Test'],time['Test'],2)\n",
    "\n",
    "\n",
    "ax.get_xaxis().set_major_formatter(matplotlib.ticker.ScalarFormatter())\n",
    "ax.get_yaxis().set_major_formatter(matplotlib.ticker.ScalarFormatter())\n",
    "ax.xaxis.set_minor_formatter(plt.NullFormatter())\n",
    "ax.yaxis.set_minor_formatter(plt.NullFormatter())\n",
    "\n",
    "matplotlib.rc('xtick', labelsize=12) \n",
    "matplotlib.rc('ytick', labelsize=12) \n",
    "\n",
    "plt.xlabel('measured time (ms)',fontsize=18)\n",
    "plt.ylabel('predicted time (ms)',fontsize=18)\n",
    "\n",
    "\n",
    "axlim = max(plt.xlim()[1],plt.ylim()[1])\n",
    "\n",
    "\n",
    "#plt.axis('equal')\n",
    "ax.set_xlim(-axlim*.025,axlim*1.025)\n",
    "ax.set_ylim(-axlim*.025,axlim*1.025)\n",
    "\n",
    "plt.tight_layout()\n",
    "\n",
    "# if useData == 'Conv':\n",
    "#     plt.savefig('figures/Validation_%s_conv.png' %model_name, dpi=300)\n",
    "# elif useData == 'Dense':\n",
    "#     plt.savefig('figures/Validation_%s_fc.png' %model_name, dpi=300)\n",
    "\n",
    "plt.show()\n",
    "print('RMS test error = %.3g ms' %(RMS_test_error))"
   ]
  },
  {
   "cell_type": "markdown",
   "metadata": {},
   "source": [
    "### STOP here - validation data set"
   ]
  },
  {
   "cell_type": "code",
   "execution_count": 184,
   "metadata": {
    "scrolled": false
   },
   "outputs": [
    {
     "name": "stdout",
     "output_type": "stream",
     "text": [
      "INFO:tensorflow:Restoring parameters from checkpoints/P100_ms\\prediction-299\n"
     ]
    },
    {
     "data": {
      "image/png": "[encoded data removed]",
      "text/plain": [
       "<Figure size 576x576 with 1 Axes>"
      ]
     },
     "metadata": {
      "needs_background": "light"
     },
     "output_type": "display_data"
    },
    {
     "name": "stdout",
     "output_type": "stream",
     "text": [
      "RMS validation error = 161 ms\n",
      "Percentage error = 39.9%\n"
     ]
    }
   ],
   "source": [
    "saver = tf.compat.v1.train.Saver()\n",
    "with tf.compat.v1.Session() as sess:\n",
    "    sess.run(tf.compat.v1.global_variables_initializer())\n",
    "    \n",
    "    ckpt = tf.compat.v1.train.get_checkpoint_state(os.path.dirname('checkpoints/%s/checkpoint' %model_name))\n",
    "    saver.restore(sess, ckpt.model_checkpoint_path)\n",
    "    \n",
    "    v = sess.run(tf.compat.v1.get_collection(tf.compat.v1.GraphKeys.TRAINABLE_VARIABLES))\n",
    "    \n",
    "    validation_prediction, validation_loss = sess.run(\n",
    "            [model.prediction,model.loss], \n",
    "            feed_dict={model.inputs: data['Validation'], \n",
    "                       model.targets: time['Validation'],\n",
    "                       model.istraining: False}) \n",
    "    \n",
    "RMS_validation_error=np.sqrt(np.mean((time['Validation']-validation_prediction)**2))\n",
    "perc_error = np.mean(np.abs(time['Validation']-validation_prediction)/time['Validation'])*100\n",
    "\n",
    "fig,ax = plt.subplots(1,1,figsize=[8,8])\n",
    "ax.plot(time['Validation'],validation_prediction,'.')\n",
    "ax.plot(time['Validation'],time['Validation'],2)\n",
    "\n",
    "\n",
    "ax.get_xaxis().set_major_formatter(matplotlib.ticker.ScalarFormatter())\n",
    "ax.get_yaxis().set_major_formatter(matplotlib.ticker.ScalarFormatter())\n",
    "ax.xaxis.set_minor_formatter(plt.NullFormatter())\n",
    "ax.yaxis.set_minor_formatter(plt.NullFormatter())\n",
    "\n",
    "matplotlib.rc('xtick', labelsize=30) \n",
    "matplotlib.rc('ytick', labelsize=30) \n",
    "\n",
    "plt.xlabel('measured time (ms)',fontsize=30)\n",
    "plt.ylabel('predicted time (ms)',fontsize=30)\n",
    "\n",
    "\n",
    "axlim = max(plt.xlim()[1],plt.ylim()[1])\n",
    "\n",
    "\n",
    "#plt.axis('equal')\n",
    "ax.set_xlim(-axlim*.025,axlim*1.025)\n",
    "ax.set_ylim(-axlim*.025,axlim*1.025)\n",
    "\n",
    "# ax.xaxis.set_ticks([0,25,50,75,100,125])\n",
    "\n",
    "plt.tight_layout()\n",
    "\n",
    "# if useData == 'Conv':\n",
    "#     plt.savefig('figures/Validation_%s_conv.png' %model_name, dpi=300)\n",
    "# elif useData == 'Dense':\n",
    "#     plt.savefig('figures/Validation_%s_fc.png' %model_name, dpi=300)\n",
    "\n",
    "plt.show()\n",
    "print('RMS validation error = %.3g ms' %(RMS_validation_error))\n",
    "print('Percentage error = %.3g%%' %(perc_error))"
   ]
  },
  {
   "cell_type": "markdown",
   "metadata": {},
   "source": [
    "## Build a linear regression as comparison"
   ]
  },
  {
   "cell_type": "code",
   "execution_count": 64,
   "metadata": {},
   "outputs": [],
   "source": [
    "df_validation = df.iloc[validation]\n",
    "df_train = df.iloc[train]"
   ]
  },
  {
   "cell_type": "code",
   "execution_count": 65,
   "metadata": {},
   "outputs": [],
   "source": [
    "linreg = linear_model.LinearRegression()"
   ]
  },
  {
   "cell_type": "code",
   "execution_count": 66,
   "metadata": {},
   "outputs": [],
   "source": [
    "x_train = df_train[['batchsize','elements_matrix','elements_kernel',\n",
    "                'channels_in','channels_out','padding','strides','use_bias','ops']].values   \n",
    "y_train = df_train['timeUsed_median'].values   # time\n",
    "\n",
    "x_valid = df_validation[['batchsize','elements_matrix','elements_kernel',\n",
    "                'channels_in','channels_out','padding','strides','use_bias','ops']].values\n",
    "y_valid = df_validation['timeUsed_median'].values   # time"
   ]
  },
  {
   "cell_type": "code",
   "execution_count": 67,
   "metadata": {},
   "outputs": [
    {
     "data": {
      "text/plain": [
       "LinearRegression(copy_X=True, fit_intercept=True, n_jobs=None, normalize=False)"
      ]
     },
     "execution_count": 67,
     "metadata": {},
     "output_type": "execute_result"
    }
   ],
   "source": [
    "linreg.fit(x_train,y_train)"
   ]
  },
  {
   "cell_type": "code",
   "execution_count": 68,
   "metadata": {},
   "outputs": [],
   "source": [
    "lp = linreg.predict(x_valid)"
   ]
  },
  {
   "cell_type": "code",
   "execution_count": 69,
   "metadata": {},
   "outputs": [
    {
     "data": {
      "text/plain": [
       "array([ 1.31279773e+01,  3.35567081e-03, -3.79182303e+00,  5.47617013e-03,\n",
       "       -7.13980422e-02,  7.57400251e+00, -5.87783693e+01,  3.33958660e+00,\n",
       "        1.61162664e-08])"
      ]
     },
     "execution_count": 69,
     "metadata": {},
     "output_type": "execute_result"
    }
   ],
   "source": [
    "linreg.coef_"
   ]
  },
  {
   "cell_type": "markdown",
   "metadata": {},
   "source": [
    "#### Out Results"
   ]
  },
  {
   "cell_type": "code",
   "execution_count": 70,
   "metadata": {
    "scrolled": false
   },
   "outputs": [
    {
     "data": {
      "image/png": "[encoded data removed]",
      "text/plain": [
       "<Figure size 576x576 with 1 Axes>"
      ]
     },
     "metadata": {
      "needs_background": "light"
     },
     "output_type": "display_data"
    }
   ],
   "source": [
    "labels = [.2,.3,.4,.5,1]\n",
    "\n",
    "RMS_vadiation_error=np.sqrt(np.mean((y_valid-lp)**2))\n",
    "perc_error = np.mean(np.abs(y_valid-lp)/y_valid)*100\n",
    "fig,ax = plt.subplots(1,1,figsize=[8,8])\n",
    "\n",
    "ax.plot(y_valid,lp,'.')\n",
    "\n",
    "ax.plot(y_valid,y_valid)\n",
    "\n",
    "ax.get_xaxis().set_major_formatter(matplotlib.ticker.ScalarFormatter())\n",
    "ax.get_yaxis().set_major_formatter(matplotlib.ticker.ScalarFormatter())\n",
    "ax.xaxis.set_minor_formatter(plt.NullFormatter())\n",
    "ax.yaxis.set_minor_formatter(plt.NullFormatter())\n",
    "\n",
    "\n",
    "matplotlib.rc('xtick', labelsize=30) \n",
    "matplotlib.rc('ytick', labelsize=30) \n",
    "\n",
    "plt.xlabel('measured time (ms)',fontsize=30)\n",
    "plt.ylabel('predicted time (ms)',fontsize=30)\n",
    "\n",
    "#plt.axis('equal')\n",
    "ax.set_xlim(-axlim*.025,axlim*1.025)\n",
    "ax.set_ylim(-axlim*.025,axlim*1.025)\n",
    "\n",
    "# ax.xaxis.set_ticks([0,25,50,75,100,125])\n",
    "\n",
    "plt.tight_layout()\n",
    "\n",
    "\n",
    "# if useData == 'Conv':\n",
    "#     plt.savefig('figures/Validation_%s_conv_linearreg.png' %model_name, dpi=300)\n",
    "# elif useData == 'Dense':\n",
    "#     plt.savefig('figures/Validation_%s_fc_linearreg.png' %model_name, dpi=300)\n",
    "\n",
    "plt.show()"
   ]
  },
  {
   "cell_type": "code",
   "execution_count": 71,
   "metadata": {},
   "outputs": [
    {
     "data": {
      "text/plain": [
       "450.4023355051201"
      ]
     },
     "execution_count": 71,
     "metadata": {},
     "output_type": "execute_result"
    }
   ],
   "source": [
    "RMS_vadiation_error"
   ]
  },
  {
   "cell_type": "code",
   "execution_count": 72,
   "metadata": {},
   "outputs": [
    {
     "data": {
      "text/plain": [
       "142.30632693960789"
      ]
     },
     "execution_count": 72,
     "metadata": {},
     "output_type": "execute_result"
    }
   ],
   "source": [
    "perc_error"
   ]
  },
  {
   "cell_type": "code",
   "execution_count": null,
   "metadata": {},
   "outputs": [],
   "source": []
  }
 ],
 "metadata": {
  "kernelspec": {
   "display_name": "Python 3",
   "language": "python",
   "name": "python3"
  },
  "language_info": {
   "codemirror_mode": {
    "name": "ipython",
    "version": 3
   },
   "file_extension": ".py",
   "mimetype": "text/x-python",
   "name": "python",
   "nbconvert_exporter": "python",
   "pygments_lexer": "ipython3",
   "version": "3.7.4"
  }
 },
 "nbformat": 4,
 "nbformat_minor": 2
}
